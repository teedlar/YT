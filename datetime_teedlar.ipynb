{
 "cells": [
  {
   "cell_type": "markdown",
   "id": "d97eaff2",
   "metadata": {},
   "source": [
    "## Date"
   ]
  },
  {
   "cell_type": "code",
   "execution_count": 14,
   "id": "31a2d034",
   "metadata": {},
   "outputs": [
    {
     "name": "stdout",
     "output_type": "stream",
     "text": [
      "183 days, 0:00:00\n"
     ]
    }
   ],
   "source": [
    "from datetime import datetime, date\n",
    "now = datetime.now()\n",
    "\n",
    "dob = date(2021, 7, 21) #21 Jul 2021\n",
    "days = now.date()-dob\n",
    "\n",
    "print(days)"
   ]
  },
  {
   "cell_type": "markdown",
   "id": "d3e9430e",
   "metadata": {},
   "source": [
    "## Date & Time"
   ]
  },
  {
   "cell_type": "code",
   "execution_count": 16,
   "id": "822e1d5b",
   "metadata": {},
   "outputs": [
    {
     "name": "stdout",
     "output_type": "stream",
     "text": [
      "183 days, 13:56:48.951703\n"
     ]
    }
   ],
   "source": [
    "from datetime import datetime\n",
    "now = datetime.now()\n",
    "\n",
    "dobt = datetime(2021, 7, 21, 10, 0, 0)\n",
    "days = now-dobt\n",
    "\n",
    "print(days)"
   ]
  },
  {
   "cell_type": "markdown",
   "id": "b2c17a8b",
   "metadata": {},
   "source": [
    "## Custom"
   ]
  },
  {
   "cell_type": "code",
   "execution_count": 17,
   "id": "816ca2c5",
   "metadata": {},
   "outputs": [
    {
     "name": "stdout",
     "output_type": "stream",
     "text": [
      "Enter Year 2020\n",
      "Enter month 7\n",
      "Enter date 21\n",
      "548 days, 0:00:00\n"
     ]
    }
   ],
   "source": [
    "from datetime import datetime, date\n",
    "\n",
    "year = input('Enter Year ')\n",
    "month = input('Enter month ')\n",
    "dat = input('Enter date ')\n",
    "\n",
    "now = datetime.now()\n",
    "\n",
    "dob = date(int(year), int(month), int(dat))\n",
    "days = now.date()-dob\n",
    "\n",
    "print(days)"
   ]
  },
  {
   "cell_type": "markdown",
   "id": "4b7c73d0",
   "metadata": {},
   "source": [
    "## Upcoming"
   ]
  },
  {
   "cell_type": "code",
   "execution_count": 18,
   "id": "3278c5d5",
   "metadata": {},
   "outputs": [
    {
     "name": "stdout",
     "output_type": "stream",
     "text": [
      "Upcoming in 182 days, 0:00:00\n"
     ]
    }
   ],
   "source": [
    "from datetime import datetime, date\n",
    "now = datetime.now()\n",
    "\n",
    "date1 = date(now.year, 7, 21) \n",
    "ndob = date1-now.date()\n",
    "\n",
    "print('Upcoming in',ndob)"
   ]
  },
  {
   "cell_type": "markdown",
   "id": "22e027db",
   "metadata": {},
   "source": [
    "# Thank you"
   ]
  }
 ],
 "metadata": {
  "kernelspec": {
   "display_name": "Python 3 (ipykernel)",
   "language": "python",
   "name": "python3"
  },
  "language_info": {
   "codemirror_mode": {
    "name": "ipython",
    "version": 3
   },
   "file_extension": ".py",
   "mimetype": "text/x-python",
   "name": "python",
   "nbconvert_exporter": "python",
   "pygments_lexer": "ipython3",
   "version": "3.9.7"
  }
 },
 "nbformat": 4,
 "nbformat_minor": 5
}
