{
 "cells": [
  {
   "cell_type": "markdown",
   "id": "78e7450b",
   "metadata": {},
   "source": [
    "## pip install pytube"
   ]
  },
  {
   "cell_type": "code",
   "execution_count": 1,
   "id": "7b03af30",
   "metadata": {},
   "outputs": [],
   "source": [
    "from pytube import YouTube"
   ]
  },
  {
   "cell_type": "code",
   "execution_count": 4,
   "id": "54ada89d",
   "metadata": {
    "scrolled": true
   },
   "outputs": [
    {
     "name": "stdout",
     "output_type": "stream",
     "text": [
      "Calculating DOB using python datetime | #python #dob\n",
      "teedlar\n",
      "3\n"
     ]
    }
   ],
   "source": [
    "videoLink = YouTube('https://youtu.be/9JNw9zjo_X0')\n",
    "print(videoLink.title)\n",
    "print(videoLink.author)\n",
    "print(videoLink.views)"
   ]
  },
  {
   "cell_type": "code",
   "execution_count": 3,
   "id": "c4be089b",
   "metadata": {},
   "outputs": [
    {
     "data": {
      "text/plain": [
       "['__class__',\n",
       " '__delattr__',\n",
       " '__dict__',\n",
       " '__dir__',\n",
       " '__doc__',\n",
       " '__eq__',\n",
       " '__format__',\n",
       " '__ge__',\n",
       " '__getattribute__',\n",
       " '__gt__',\n",
       " '__hash__',\n",
       " '__init__',\n",
       " '__init_subclass__',\n",
       " '__le__',\n",
       " '__lt__',\n",
       " '__module__',\n",
       " '__ne__',\n",
       " '__new__',\n",
       " '__reduce__',\n",
       " '__reduce_ex__',\n",
       " '__repr__',\n",
       " '__setattr__',\n",
       " '__sizeof__',\n",
       " '__str__',\n",
       " '__subclasshook__',\n",
       " '__weakref__',\n",
       " '_age_restricted',\n",
       " '_author',\n",
       " '_embed_html',\n",
       " '_fmt_streams',\n",
       " '_initial_data',\n",
       " '_js',\n",
       " '_js_url',\n",
       " '_metadata',\n",
       " '_player_config_args',\n",
       " '_publish_date',\n",
       " '_title',\n",
       " '_vid_info',\n",
       " '_watch_html',\n",
       " 'age_restricted',\n",
       " 'allow_oauth_cache',\n",
       " 'author',\n",
       " 'bypass_age_gate',\n",
       " 'caption_tracks',\n",
       " 'captions',\n",
       " 'channel_id',\n",
       " 'channel_url',\n",
       " 'check_availability',\n",
       " 'description',\n",
       " 'embed_html',\n",
       " 'embed_url',\n",
       " 'fmt_streams',\n",
       " 'initial_data',\n",
       " 'js',\n",
       " 'js_url',\n",
       " 'keywords',\n",
       " 'length',\n",
       " 'metadata',\n",
       " 'publish_date',\n",
       " 'rating',\n",
       " 'register_on_complete_callback',\n",
       " 'register_on_progress_callback',\n",
       " 'stream_monostate',\n",
       " 'streaming_data',\n",
       " 'streams',\n",
       " 'thumbnail_url',\n",
       " 'title',\n",
       " 'use_oauth',\n",
       " 'vid_info',\n",
       " 'video_id',\n",
       " 'views',\n",
       " 'watch_html',\n",
       " 'watch_url']"
      ]
     },
     "execution_count": 3,
     "metadata": {},
     "output_type": "execute_result"
    }
   ],
   "source": [
    "dir(videoLink)"
   ]
  },
  {
   "cell_type": "code",
   "execution_count": 5,
   "id": "6d6f11b2",
   "metadata": {},
   "outputs": [
    {
     "name": "stdout",
     "output_type": "stream",
     "text": [
      "Channel Name : teedlar \n",
      "Total 6 Videos\n",
      "\n",
      "Calculating DOB using python datetime | #python #dob\n",
      "https://www.youtube.com/watch?v=9JNw9zjo_X0\n",
      "views: 4\n",
      "\n",
      "Playing with Binance API Python #Binance #API #Python\n",
      "https://www.youtube.com/watch?v=rb_4MBScflo\n",
      "views: 92\n",
      "\n",
      "Playing with APIs using Python in English #api #python #WazirX\n",
      "https://www.youtube.com/watch?v=vxUAYoCR0Is\n",
      "views: 133\n",
      "\n",
      "Playing with Real Time Data Using #Python & #Wazirx #API in Tamil ( Code Link Given Below )\n",
      "https://www.youtube.com/watch?v=mxGF-iBW2q0\n",
      "views: 818\n",
      "\n",
      "Does Programming Means Working Only With IDEs | Beginners | #python #beginners #programming #school\n",
      "https://www.youtube.com/watch?v=_1dPAgsJLE4\n",
      "views: 20\n",
      "\n",
      "Python Introduction in Tamil | Beginners | Download | IDEs | Uses | Setup #python #programming\n",
      "https://www.youtube.com/watch?v=iNjUi9q9jVM\n",
      "views: 61\n",
      "\n",
      "Total views 1128\n"
     ]
    }
   ],
   "source": [
    "from pytube import Channel, YouTube\n",
    "viewsCount = []\n",
    "cha = Channel('https://www.youtube.com/channel/UCupMGzmf1pnTOlzH93BOHJQ') #enter channel link\n",
    "print('Channel Name : '+str(cha.channel_name))\n",
    "print('Total '+str(len(cha))+ ' Videos')\n",
    "print()\n",
    "for atoz in cha:\n",
    "    print(str(YouTube(atoz).title)+'\\n'+str(atoz))\n",
    "    print('views: '+str(YouTube(atoz).views))\n",
    "    viewsCount.append(YouTube(atoz).views)\n",
    "    print()\n",
    "print('Total views '+str(sum(viewsCount)))"
   ]
  },
  {
   "cell_type": "code",
   "execution_count": 6,
   "id": "ecfa9cba",
   "metadata": {},
   "outputs": [
    {
     "name": "stdout",
     "output_type": "stream",
     "text": [
      "Enter Channel Link: https://www.youtube.com/channel/UCupMGzmf1pnTOlzH93BOHJQ\n",
      "Channel Name : teedlar \n",
      "Total 6 Videos\n",
      "\n",
      "Calculating DOB using python datetime | #python #dob\n",
      "https://www.youtube.com/watch?v=9JNw9zjo_X0\n",
      "views: 4\n",
      "\n",
      "Playing with Binance API Python #Binance #API #Python\n",
      "https://www.youtube.com/watch?v=rb_4MBScflo\n",
      "views: 92\n",
      "\n",
      "Playing with APIs using Python in English #api #python #WazirX\n",
      "https://www.youtube.com/watch?v=vxUAYoCR0Is\n",
      "views: 133\n",
      "\n",
      "Playing with Real Time Data Using #Python & #Wazirx #API in Tamil ( Code Link Given Below )\n",
      "https://www.youtube.com/watch?v=mxGF-iBW2q0\n",
      "views: 818\n",
      "\n",
      "Does Programming Means Working Only With IDEs | Beginners | #python #beginners #programming #school\n",
      "https://www.youtube.com/watch?v=_1dPAgsJLE4\n",
      "views: 20\n",
      "\n",
      "Python Introduction in Tamil | Beginners | Download | IDEs | Uses | Setup #python #programming\n",
      "https://www.youtube.com/watch?v=iNjUi9q9jVM\n",
      "views: 61\n",
      "\n",
      "Total views 1128\n"
     ]
    }
   ],
   "source": [
    "from pytube import Channel, YouTube\n",
    "viewsCount = []\n",
    "channelLink = input('Enter Channel Link: ')\n",
    "cha = Channel(channelLink) #enter channel link\n",
    "print('Channel Name : '+str(cha.channel_name))\n",
    "print('Total '+str(len(cha))+ ' Videos')\n",
    "print()\n",
    "for atoz in cha:\n",
    "    print(str(YouTube(atoz).title)+'\\n'+str(atoz))\n",
    "    print('views: '+str(YouTube(atoz).views))\n",
    "    viewsCount.append(YouTube(atoz).views)\n",
    "    print()\n",
    "print('Total views '+str(sum(viewsCount)))"
   ]
  },
  {
   "cell_type": "code",
   "execution_count": null,
   "id": "87e7b54a",
   "metadata": {},
   "outputs": [],
   "source": []
  },
  {
   "cell_type": "code",
   "execution_count": 8,
   "id": "f465e07b",
   "metadata": {},
   "outputs": [
    {
     "name": "stdout",
     "output_type": "stream",
     "text": [
      "Number of videos in playlist: 5\n",
      "\n",
      "Python Introduction in Tamil | Beginners | Download | IDEs | Uses | Setup #python #programming\n",
      "https://www.youtube.com/watch?v=iNjUi9q9jVM\n",
      "views: 61\n",
      "\n",
      "Playing with Real Time Data Using #Python & #Wazirx #API in Tamil ( Code Link Given Below )\n",
      "https://www.youtube.com/watch?v=mxGF-iBW2q0\n",
      "views: 818\n",
      "\n",
      "Playing with APIs using Python in English #api #python #WazirX\n",
      "https://www.youtube.com/watch?v=vxUAYoCR0Is\n",
      "views: 133\n",
      "\n",
      "Playing with Binance API Python #Binance #API #Python\n",
      "https://www.youtube.com/watch?v=rb_4MBScflo\n",
      "views: 92\n",
      "\n",
      "Calculating DOB using python datetime | #python #dob\n",
      "https://www.youtube.com/watch?v=9JNw9zjo_X0\n",
      "views: 4\n",
      "\n",
      "Total 1108 views\n"
     ]
    }
   ],
   "source": [
    "from pytube import Playlist, YouTube\n",
    "viewsCount = []\n",
    "playlist = Playlist('https://youtube.com/playlist?list=PLeLOIYQ2l3TGzijYoioKCszPe_MUzv5nV')\n",
    "print('Number of videos in playlist: '+str(len(playlist.video_urls)))\n",
    "#print('Number of views in playlist: '+str(playlist.views))\n",
    "print()\n",
    "for video_url in playlist.video_urls:\n",
    "    print(YouTube(video_url).title)\n",
    "    print(video_url)\n",
    "    print('views: '+str(YouTube(video_url).views))\n",
    "    viewsCount.append(YouTube(video_url).views)\n",
    "    print()\n",
    "print('Total '+str(sum(viewsCount))+' views')"
   ]
  },
  {
   "cell_type": "code",
   "execution_count": null,
   "id": "34740836",
   "metadata": {},
   "outputs": [],
   "source": []
  }
 ],
 "metadata": {
  "kernelspec": {
   "display_name": "Python 3 (ipykernel)",
   "language": "python",
   "name": "python3"
  },
  "language_info": {
   "codemirror_mode": {
    "name": "ipython",
    "version": 3
   },
   "file_extension": ".py",
   "mimetype": "text/x-python",
   "name": "python",
   "nbconvert_exporter": "python",
   "pygments_lexer": "ipython3",
   "version": "3.9.7"
  }
 },
 "nbformat": 4,
 "nbformat_minor": 5
}
